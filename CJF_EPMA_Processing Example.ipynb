{
 "cells": [
  {
   "cell_type": "code",
   "execution_count": 1,
   "metadata": {
    "scrolled": false
   },
   "outputs": [
    {
     "name": "stdout",
     "output_type": "stream",
     "text": [
      "Before Count Filter: 170\n",
      "After Count Filter: 169\n",
      "# of points in k calculation: 12\n",
      "_____________________________________________________________________________________\n",
      "\n",
      "Calculated Partition Cofficients:\n",
      "{'Co': 0    1.03664\n",
      "Name: Co, dtype: float64, 'Cu': 0    0.724438\n",
      "Name: Cu, dtype: float64}\n",
      "\n",
      "_____________________________________________________________________________________\n"
     ]
    },
    {
     "name": "stderr",
     "output_type": "stream",
     "text": [
      "C:\\Users\\EMG\\CJF_EPMA_Processing Module\\CJF_EPMA_Processing.py:52: SettingWithCopyWarning: \n",
      "A value is trying to be set on a copy of a slice from a DataFrame.\n",
      "Try using .loc[row_indexer,col_indexer] = value instead\n",
      "\n",
      "See the caveats in the documentation: http://pandas.pydata.org/pandas-docs/stable/user_guide/indexing.html#returning-a-view-versus-a-copy\n",
      "  ((primary[i+' Percent Errors']/100)*primary[i+' Elemental Percents']))\n",
      "C:\\Users\\EMG\\CJF_EPMA_Processing Module\\CJF_EPMA_Processing.py:49: SettingWithCopyWarning: \n",
      "A value is trying to be set on a copy of a slice from a DataFrame.\n",
      "Try using .loc[row_indexer,col_indexer] = value instead\n",
      "\n",
      "See the caveats in the documentation: http://pandas.pydata.org/pandas-docs/stable/user_guide/indexing.html#returning-a-view-versus-a-copy\n",
      "  ((primary[i+' Percent Errors']/100)*primary[i+' Elemental Percents']))\n",
      "C:\\Users\\EMG\\CJF_EPMA_Processing Module\\CJF_EPMA_Processing.py:55: SettingWithCopyWarning: \n",
      "A value is trying to be set on a copy of a slice from a DataFrame.\n",
      "Try using .loc[row_indexer,col_indexer] = value instead\n",
      "\n",
      "See the caveats in the documentation: http://pandas.pydata.org/pandas-docs/stable/user_guide/indexing.html#returning-a-view-versus-a-copy\n",
      "  primary['Avgbar'] = primary[columns].mean(axis=1)\n",
      "C:\\Users\\EMG\\CJF_EPMA_Processing Module\\CJF_EPMA_Processing.py:85: UserWarning: Boolean Series key will be reindexed to match DataFrame index.\n",
      "  final_data2= final_data[(primary_sort[\"Fsolid\"]<mba_trim)]\n"
     ]
    },
    {
     "data": {
      "text/plain": [
       "<Figure size 600x600 with 1 Axes>"
      ]
     },
     "metadata": {},
     "output_type": "display_data"
    },
    {
     "data": {
      "text/plain": [
       "<Figure size 600x600 with 1 Axes>"
      ]
     },
     "metadata": {},
     "output_type": "display_data"
    },
    {
     "name": "stderr",
     "output_type": "stream",
     "text": [
      "No handles with labels found to put in legend.\n"
     ]
    },
    {
     "data": {
      "text/plain": [
       "<Figure size 600x600 with 1 Axes>"
      ]
     },
     "metadata": {},
     "output_type": "display_data"
    },
    {
     "data": {
      "text/plain": [
       "<Figure size 600x600 with 1 Axes>"
      ]
     },
     "metadata": {},
     "output_type": "display_data"
    },
    {
     "data": {
      "text/plain": [
       "<Figure size 600x600 with 1 Axes>"
      ]
     },
     "metadata": {},
     "output_type": "display_data"
    }
   ],
   "source": [
    "#Imports the necessary data storage packages and also the CJF_EPMA_Processing Module \n",
    "import numpy as np\n",
    "import pandas as pd\n",
    "import matplotlib.pyplot as plt\n",
    "from matplotlib.pyplot import figure\n",
    "import CJF_EPMA_Processing as ep\n",
    "\n",
    "#Define the necessary inputs to the WIRS or MBA functions\n",
    "alloy_name='Co-Cu'\n",
    "composition_location=r'Co-Cu Composition.xlsx'\n",
    "epma_data=r'Co-Cu EPMA Data.xlsx'\n",
    "elements={'Co':'Solid', 'Cu': 'Liquid'}\n",
    "export_location=r'Export Example.xlsx'\n",
    "filter= \"((data['Elemental Totals']>totalwtlow) & (data['Elemental Totals']<totalwthigh))\"\n",
    "wirs_cutoff=0.99\n",
    "mba_cutoff=0.95\n",
    "\n",
    "#Call the MBA function from the CJF_EPMA_Processing Module\n",
    "ep.MBA(alloy_name, elements,composition_location,epma_data, filter,wirs_cutoff,mba_cutoff,export_location)"
   ]
  },
  {
   "cell_type": "code",
   "execution_count": null,
   "metadata": {
    "scrolled": false
   },
   "outputs": [],
   "source": []
  }
 ],
 "metadata": {
  "kernelspec": {
   "display_name": "Python 3",
   "language": "python",
   "name": "python3"
  },
  "language_info": {
   "codemirror_mode": {
    "name": "ipython",
    "version": 3
   },
   "file_extension": ".py",
   "mimetype": "text/x-python",
   "name": "python",
   "nbconvert_exporter": "python",
   "pygments_lexer": "ipython3",
   "version": "3.7.4"
  }
 },
 "nbformat": 4,
 "nbformat_minor": 2
}
